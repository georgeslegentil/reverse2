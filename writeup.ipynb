{
 "cells": [
  {
   "attachments": {},
   "cell_type": "markdown",
   "metadata": {},
   "source": [
    "# Reverse2 - Volatility\n",
    "\n",
    "### 1er étape :  Nom de la machine\n",
    "\n",
    "Nous allons dans un premier temps executer une commande pour avoir les informations générales de la machine.\n",
    "\n",
    "Pas beaucoup d'information sur notre nom de machine avec cette commande. On sait que le nom de la machine est contenue dans le registre et plus précisemment dans \\REGISTRY\\MACHINE\\SYSTEM\\"
   ]
  },
  {
   "cell_type": "code",
   "execution_count": null,
   "metadata": {},
   "outputs": [],
   "source": [
    "import os\n",
    "def windows_info():\n",
    "    os.system(\"vol -f dump.vmem windows.info > window-info-output.txt\")\n",
    "    output = os.popen(\"vol -f dump.vmem windows.info\").read()\n",
    "    print(output)\n",
    "\n",
    "windows_info()\n"
   ]
  },
  {
   "attachments": {},
   "cell_type": "markdown",
   "metadata": {},
   "source": [
    "vol -f dump.vmem windows.registry.printkey. --offset 0xf8a000024010 --key \"ControlSet001\\Control\\ComputerName\\ComputerName\"\n",
    "Cette commande nous permet d'afficher le contenu de la variable **ComputerName** contenue dans le registre MACHINE\\SYSTEM\n",
    "Nom de la machine : WIN-LO6FAF3DTFE"
   ]
  },
  {
   "cell_type": "code",
   "execution_count": null,
   "metadata": {},
   "outputs": [],
   "source": [
    "def windows_getkey():\n",
    "    os.system(\"vol -f dump.vmem windows.registry.printkey.PrintKey > window-getkey-output.txt\")\n",
    "    os.system('vol -f dump.vmem windows.registry.printkey. --offset 0xf8a000024010 --key \"ControlSet001\\Control\\ComputerName\\ComputerName\" > window-getmachinename-output.txt')\n",
    "    computername = os.popen('vol -f dump.vmem windows.registry.printkey. --offset 0xf8a000024010 --key \"ControlSet001\\Control\\ComputerName\\ComputerName\"').read()\n",
    "    print(computername)\n",
    "\n",
    "windows_getkey()"
   ]
  },
  {
   "attachments": {},
   "cell_type": "markdown",
   "metadata": {},
   "source": [
    "### 2e étape :  Credentials\n",
    "\n",
    "Pour ce faire on utilise hashdump qui nous récupère les hash des mots de passes de chaques sessions stocké.\n",
    "Malheureusement les hash ne sont pas crackables via des outils en ligne tel que crackstation.\n",
    "\n",
    "J'ai"
   ]
  },
  {
   "cell_type": "code",
   "execution_count": null,
   "metadata": {},
   "outputs": [],
   "source": [
    "def getUserCredentials():\n",
    "    os.system(\"vol -f dump.vmem windows.hashdump.Hashdump  > hashes.txt\")\n",
    "    output = os.popen(\"vol -f dump.vmem windows.hashdump.Hashdump\").read()\n",
    "    credentials = os.popen(\"vol -f dump.vmem windows.lsadump\").read()\n",
    "    print(credentials)\n",
    "\n",
    "getUserCredentials()"
   ]
  },
  {
   "attachments": {},
   "cell_type": "markdown",
   "metadata": {},
   "source": [
    "### 3e étape :  Trouver l'ip de la machine sur le réseau\n",
    "On va utiliser Netscan pour trouver facilement notre IP !\n",
    "\n",
    "On tombe en boucle sur **192.168.202.131** : L'ip de la machine"
   ]
  },
  {
   "cell_type": "code",
   "execution_count": null,
   "metadata": {},
   "outputs": [],
   "source": [
    "def getIp():\n",
    "    os.system(\"vol -f dump.vmem windows.netscan.NetScan > netscan.txt\")\n",
    "    output = os.popen(\"vol -f dump.vmem windows.netscan.NetScan\").read()\n",
    "    print(output)\n",
    "\n",
    "getIp()"
   ]
  },
  {
   "attachments": {},
   "cell_type": "markdown",
   "metadata": {},
   "source": [
    "### 4e étape : Savoir si le malware communique avec un serveur distant.\n",
    "D'après le netscan, notre malware ne communique pas avec un serveur distant."
   ]
  },
  {
   "attachments": {},
   "cell_type": "markdown",
   "metadata": {},
   "source": [
    "### 5e étape: trouver le malware dans la liste des process.\n",
    "Pour ce faire, nous allons lancer un pstree. Cette commande nous permet d'afficher les processus en cours d'éxecution ainsi que leurs enfants."
   ]
  },
  {
   "cell_type": "code",
   "execution_count": null,
   "metadata": {},
   "outputs": [],
   "source": [
    "def getProcesses():\n",
    "    os.system(\"vol -f dump.vmem windows.pstree > pstree.txt\")\n",
    "    os.system(\"vol -f dump.vmem windows.cmdline  > cmdline.txt\")\n",
    "\n",
    "\n",
    "getProcesses()"
   ]
  },
  {
   "attachments": {},
   "cell_type": "markdown",
   "metadata": {},
   "source": [
    "```\n",
    "* 3820\t2728\tRick And Morty\t0xfa801b486b30\t4\t185\t1\tTrue\t2018-08-04 19:32:55.000000 \tN/A\n",
    "** 3720\t3820\tvmware-tray.ex\t0xfa801a4c5b30\t8\t147\t1\tTrue\t2018-08-04 19:33:02.000000 \tN/A\n",
    "```\n",
    "On repère vmware-tray.ex qui pourrait être notre malware et qui s'est installé lorsque notre user a lancé download.exe"
   ]
  },
  {
   "attachments": {},
   "cell_type": "markdown",
   "metadata": {},
   "source": [
    "On dump"
   ]
  },
  {
   "cell_type": "code",
   "execution_count": 45,
   "metadata": {},
   "outputs": [],
   "source": [
    "def dump():\n",
    "    os.system(\"vol -f dump.vmem windows.pslist --pid 3720 --dump\")"
   ]
  },
  {
   "cell_type": "markdown",
   "metadata": {},
   "source": []
  }
 ],
 "metadata": {
  "kernelspec": {
   "display_name": "Python 3",
   "language": "python",
   "name": "python3"
  },
  "language_info": {
   "codemirror_mode": {
    "name": "ipython",
    "version": 3
   },
   "file_extension": ".py",
   "mimetype": "text/x-python",
   "name": "python",
   "nbconvert_exporter": "python",
   "pygments_lexer": "ipython3",
   "version": "3.11.0"
  },
  "orig_nbformat": 4,
  "vscode": {
   "interpreter": {
    "hash": "5c7b89af1651d0b8571dde13640ecdccf7d5a6204171d6ab33e7c296e100e08a"
   }
  }
 },
 "nbformat": 4,
 "nbformat_minor": 2
}

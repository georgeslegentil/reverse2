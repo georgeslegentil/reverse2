{
 "cells": [
  {
   "attachments": {},
   "cell_type": "markdown",
   "metadata": {},
   "source": [
    "# Reverse2 - Volatility\n",
    "\n",
    "## 1er étape :  Nom de la machine\n",
    "\n",
    "Nous allons dans un premier temps executer une commande pour avoir les informations générales de la machine.\n",
    "\n",
    "Pas beaucoup d'information sur notre nom de machine avec cette commande. On sait que le nom de la machine est contenue dans le registre et plus précisemment dans **\\REGISTRY\\MACHINE\\SYSTEM\\**\n"
   ]
  },
  {
   "cell_type": "code",
   "execution_count": 27,
   "metadata": {},
   "outputs": [
    {
     "name": "stderr",
     "output_type": "stream",
     "text": [
      "Progress:  100.00\t\tPDB scanning finished                        \r"
     ]
    },
    {
     "name": "stdout",
     "output_type": "stream",
     "text": [
      "Volatility 3 Framework 2.4.0\n",
      "\n",
      "Key\tSecret\tHex\n",
      "\n",
      "DefaultPassword\t(\u0000\u0000\u0000\u0000\u0000\u0000\u0000\u0000\u0000\u0000\u0000\u0000\u0000\u0000\u0000M\u0000o\u0000r\u0000t\u0000y\u0000I\u0000s\u0000R\u0000e\u0000a\u0000l\u0000l\u0000y\u0000A\u0000n\u0000O\u0000t\u0000t\u0000e\u0000r\u0000\u0000\u0000\u0000\u0000\u0000\u0000\u0000\u0000\t28 00 00 00 00 00 00 00 00 00 00 00 00 00 00 00 4d 00 6f 00 72 00 74 00 79 00 49 00 73 00 52 00 65 00 61 00 6c 00 6c 00 79 00 41 00 6e 00 4f 00 74 00 74 00 65 00 72 00 00 00 00 00 00 00 00 00\n",
      "DPAPI_SYSTEM\t,\u0000\u0000\u0000\u0000\u0000\u0000\u0000\u0000\u0000\u0000\u0000\u0000\u0000\u0000\u0000\u0001\u0000\u0000\u00006º©Uá\tàcL tc\u0014Ø KEZä¼òw¥%?G\u0012\u000båM¥È5ÏÜ\u0000\u0000\u0000\u0000\t2c 00 00 00 00 00 00 00 00 00 00 00 00 00 00 00 01 00 00 00 36 9b ba a9 55 e1 92 82 09 e0 63 4c 20 74 63 14 9e d8 a0 4b 45 87 5a e4 bc f2 77 a5 25 3f 47 12 0b e5 4d a5 c8 35 cf dc 00 00 00 00\n",
      "\n"
     ]
    }
   ],
   "source": [
    "import os\n",
    "def windows_info():\n",
    "    os.system(\"vol -f dump.vmem windows.info > window-info-output.txt\")\n",
    "    output = os.popen(\"vol -f dump.vmem windows.info\").read() \n",
    "\n",
    "\n",
    "\n",
    "def windows_getkey():\n",
    "    os.system(\"vol -f dump.vmem windows.registry.printkey.PrintKey > window-getkey-output.txt\")\n",
    "    os.system('vol -f dump.vmem windows.registry.printkey. --offset 0xf8a000024010 --key \"ControlSet001\\Control\\ComputerName\\ComputerName\" > window-getmachinename-output.txt')\n",
    "\n",
    "\n",
    "def getUserCredentials():\n",
    "    os.system(\"vol -f dump.vmem windows.hashdump.Hashdump  > hashes.txt\")\n",
    "    output = os.popen(\"vol -f dump.vmem windows.hashdump.Hashdump\").read()\n",
    "    credentials = os.popen(\"vol -f dump.vmem windows.lsadump\").read()\n",
    "    print(credentials)\n",
    "\n",
    "windows_info()\n",
    "windows_getkey()\n",
    "getUserCredentials()"
   ]
  }
 ],
 "metadata": {
  "kernelspec": {
   "display_name": "Python 3",
   "language": "python",
   "name": "python3"
  },
  "language_info": {
   "codemirror_mode": {
    "name": "ipython",
    "version": 3
   },
   "file_extension": ".py",
   "mimetype": "text/x-python",
   "name": "python",
   "nbconvert_exporter": "python",
   "pygments_lexer": "ipython3",
   "version": "3.11.0"
  },
  "orig_nbformat": 4,
  "vscode": {
   "interpreter": {
    "hash": "5c7b89af1651d0b8571dde13640ecdccf7d5a6204171d6ab33e7c296e100e08a"
   }
  }
 },
 "nbformat": 4,
 "nbformat_minor": 2
}

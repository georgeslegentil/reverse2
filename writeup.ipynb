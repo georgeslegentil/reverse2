{
 "cells": [
  {
   "attachments": {},
   "cell_type": "markdown",
   "metadata": {},
   "source": [
    "# Reverse2 - Volatility\n",
    "\n",
    "### 1er étape :  Nom de la machine\n",
    "\n",
    "Nous allons dans un premier temps executer une commande pour avoir les informations générales de la machine.\n",
    "\n",
    "Pas beaucoup d'information sur notre nom de machine avec cette commande. On sait que le nom de la machine est contenue dans le registre et plus précisemment dans \\REGISTRY\\MACHINE\\SYSTEM\\"
   ]
  },
  {
   "cell_type": "code",
   "execution_count": null,
   "metadata": {},
   "outputs": [],
   "source": [
    "import os\n",
    "def windows_info():\n",
    "    os.system(\"vol -f dump.vmem windows.info > window-info-output.txt\")\n",
    "    output = os.popen(\"vol -f dump.vmem windows.info\").read()\n",
    "    print(output)\n",
    "\n",
    "windows_info()\n"
   ]
  },
  {
   "attachments": {},
   "cell_type": "markdown",
   "metadata": {},
   "source": [
    "vol -f dump.vmem windows.registry.printkey. --offset 0xf8a000024010 --key \"ControlSet001\\Control\\ComputerName\\ComputerName\"\n",
    "Cette commande nous permet d'afficher le contenu de la variable **ComputerName** contenue dans le registre MACHINE\\SYSTEM\n",
    "Nom de la machine : WIN-LO6FAF3DTFE"
   ]
  },
  {
   "cell_type": "code",
   "execution_count": null,
   "metadata": {},
   "outputs": [],
   "source": [
    "def windows_getkey():\n",
    "    os.system(\"vol -f dump.vmem windows.registry.printkey.PrintKey > window-getkey-output.txt\")\n",
    "    os.system('vol -f dump.vmem windows.registry.printkey. --offset 0xf8a000024010 --key \"ControlSet001\\Control\\ComputerName\\ComputerName\" > window-getmachinename-output.txt')\n",
    "    computername = os.popen('vol -f dump.vmem windows.registry.printkey. --offset 0xf8a000024010 --key \"ControlSet001\\Control\\ComputerName\\ComputerName\"').read()\n",
    "    print(computername)\n",
    "\n",
    "windows_getkey()"
   ]
  },
  {
   "attachments": {},
   "cell_type": "markdown",
   "metadata": {},
   "source": [
    "### 2e étape :  Credentials\n",
    "\n",
    "Pour ce faire on utilise hashdump qui nous récupère les hash des mots de passes de chaques sessions stocké."
   ]
  },
  {
   "cell_type": "code",
   "execution_count": null,
   "metadata": {},
   "outputs": [],
   "source": [
    "def getUserCredentials():\n",
    "    os.system(\"vol -f dump.vmem windows.hashdump.Hashdump  > hashes.txt\")\n",
    "    output = os.popen(\"vol -f dump.vmem windows.hashdump.Hashdump\").read()\n",
    "    credentials = os.popen(\"vol -f dump.vmem windows.lsadump\").read()\n",
    "    print(credentials)\n",
    "\n",
    "getUserCredentials()"
   ]
  }
 ],
 "metadata": {
  "kernelspec": {
   "display_name": "Python 3",
   "language": "python",
   "name": "python3"
  },
  "language_info": {
   "codemirror_mode": {
    "name": "ipython",
    "version": 3
   },
   "file_extension": ".py",
   "mimetype": "text/x-python",
   "name": "python",
   "nbconvert_exporter": "python",
   "pygments_lexer": "ipython3",
   "version": "3.11.0"
  },
  "orig_nbformat": 4,
  "vscode": {
   "interpreter": {
    "hash": "5c7b89af1651d0b8571dde13640ecdccf7d5a6204171d6ab33e7c296e100e08a"
   }
  }
 },
 "nbformat": 4,
 "nbformat_minor": 2
}

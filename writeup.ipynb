{
 "cells": [
  {
   "attachments": {},
   "cell_type": "markdown",
   "metadata": {},
   "source": [
    "# Reverse2 - Volatility\n",
    "\n",
    "### 1er étape :  Nom de la machine\n",
    "\n",
    "Nous allons dans un premier temps executer une commande pour avoir les informations générales de la machine.\n",
    "\n",
    "Pas beaucoup d'information sur notre nom de machine avec cette commande. On sait que le nom de la machine est contenue dans le registre et plus précisemment dans \\REGISTRY\\MACHINE\\SYSTEM\\"
   ]
  },
  {
   "cell_type": "code",
   "execution_count": null,
   "metadata": {},
   "outputs": [],
   "source": [
    "import os\n",
    "def windows_info():\n",
    "    os.system(\"vol -f dump.vmem windows.info > ./scan-trace/window-info-output.txt\")\n",
    "    output = os.popen(\"vol -f dump.vmem windows.info\").read()\n",
    "    print(output)\n",
    "\n",
    "windows_info()\n"
   ]
  },
  {
   "attachments": {},
   "cell_type": "markdown",
   "metadata": {},
   "source": [
    "vol -f dump.vmem windows.registry.printkey. --offset 0xf8a000024010 --key \"ControlSet001\\Control\\ComputerName\\ComputerName\"\n",
    "Cette commande nous permet d'afficher le contenu de la variable **ComputerName** contenue dans le registre MACHINE\\SYSTEM\n",
    "Nom de la machine : WIN-LO6FAF3DTFE"
   ]
  },
  {
   "cell_type": "code",
   "execution_count": 71,
   "metadata": {},
   "outputs": [
    {
     "name": "stderr",
     "output_type": "stream",
     "text": [
      "Progress:  100.00\t\tPDB scanning finished                        \r"
     ]
    }
   ],
   "source": [
    "def windows_getkey():\n",
    "    os.system(\"vol -f dump.vmem windows.registry.printkey.PrintKey > ./scan-trace/window-getkey-output.txt\")\n",
    "    os.system('vol -f dump.vmem windows.registry.printkey. --offset 0xf8a000024010 --key \"ControlSet001\\Control\\ComputerName\\ComputerName\" > ./scan-trace/window-getmachinename-output.txt')\n",
    "\n",
    "windows_getkey()"
   ]
  },
  {
   "attachments": {},
   "cell_type": "markdown",
   "metadata": {},
   "source": [
    "### 2e étape :  Credentials\n",
    "\n",
    "Pour ce faire on utilise hashdump qui nous récupère les hash des mots de passes de chaques sessions stocké.\n",
    "Malheureusement les hash ne sont pas crackables via des outils en ligne tel que crackstation.\n",
    "\n",
    "grâce à lsadump on peut récupérer le mot de passe de session de rick\n"
   ]
  },
  {
   "cell_type": "code",
   "execution_count": null,
   "metadata": {},
   "outputs": [],
   "source": [
    "def getUserCredentials():\n",
    "    os.system(\"vol -f dump.vmem windows.hashdump.Hashdump  > ./scan-trace/credentials/hashes.txt\")\n",
    "    os.system(\"vol -f dump.vmem windows.lsadump.Lsadump > ./scan-trace/credentials/lsadump.txt\")\n",
    "   \n",
    "def deleteNullByte(filename):\n",
    "    with open(filename, 'rb') as f:\n",
    "        data = f.read()\n",
    "    with open(filename, 'wb') as f:\n",
    "        f.write(data.replace(b'\\x00', b''))\n",
    "\n",
    "getUserCredentials()\n",
    "deleteNullByte(\"./scan-trace/credentials/lsadump.txt\")"
   ]
  },
  {
   "attachments": {},
   "cell_type": "markdown",
   "metadata": {},
   "source": [
    "password : **MortyIsReallyAnOtter**"
   ]
  },
  {
   "attachments": {},
   "cell_type": "markdown",
   "metadata": {},
   "source": [
    "### 3e étape :  Trouver l'ip de la machine sur le réseau\n",
    "On va utiliser Netscan pour trouver facilement notre IP !\n",
    "\n",
    "On tombe en boucle sur **192.168.202.131** : L'ip de la machine"
   ]
  },
  {
   "cell_type": "code",
   "execution_count": null,
   "metadata": {},
   "outputs": [],
   "source": [
    "def getIp():\n",
    "    os.system(\"vol -f dump.vmem windows.netscan.NetScan > netscan.txt\")\n",
    "\n",
    "getIp()"
   ]
  },
  {
   "attachments": {},
   "cell_type": "markdown",
   "metadata": {},
   "source": [
    "### 4e étape : Savoir si le malware communique avec un serveur distant.\n",
    "D'après le netscan, notre malware ne communique pas avec un serveur distant."
   ]
  },
  {
   "attachments": {},
   "cell_type": "markdown",
   "metadata": {},
   "source": [
    "### 5e étape : The process\n",
    "Pour ce faire, nous allons lancer un pstree. Cette commande nous permet d'afficher les processus en cours d'éxecution ainsi que leurs enfants."
   ]
  },
  {
   "cell_type": "code",
   "execution_count": null,
   "metadata": {},
   "outputs": [],
   "source": [
    "def getProcesses():\n",
    "    os.system(\"vol -f dump.vmem windows.pstree > ./scan-trace/pstree.txt\")\n",
    "    os.system(\"vol -f dump.vmem windows.cmdline  > ./scan-trace/cmdline.txt\")\n",
    "\n",
    "\n",
    "getProcesses()"
   ]
  },
  {
   "attachments": {},
   "cell_type": "markdown",
   "metadata": {},
   "source": [
    "```\n",
    "* 3820\t2728\tRick And Morty\t0xfa801b486b30\t4\t185\t1\tTrue\t2018-08-04 19:32:55.000000 \tN/A\n",
    "** 3720\t3820\tvmware-tray.ex\t0xfa801a4c5b30\t8\t147\t1\tTrue\t2018-08-04 19:33:02.000000 \tN/A\n",
    "```\n",
    "On repère vmware-tray.ex qui pourrait être notre malware et qui s'est installé lorsque notre user a lancé download.exe"
   ]
  },
  {
   "cell_type": "code",
   "execution_count": null,
   "metadata": {},
   "outputs": [],
   "source": [
    "def processDump():\n",
    "    os.system(\"vol -f dump.vmem -o ./ransomware-dump/process-dump windows.pslist.PsList --pid 3720 --dump\")\n",
    "\n",
    "processDump()"
   ]
  },
  {
   "cell_type": "code",
   "execution_count": null,
   "metadata": {},
   "outputs": [],
   "source": [
    "def memoryDump():\n",
    "    os.system(\"vol -f dump.vmem -o ./ransomware-dump/memory-dump windows.memmap --dump --pid 3720\")\n",
    "\n",
    "memoryDump()"
   ]
  },
  {
   "attachments": {},
   "cell_type": "markdown",
   "metadata": {},
   "source": [
    "### Etape 6 :  l'address bitcoin\n",
    "\n",
    "\n",
    "On trouve facilement des strings en clair dans le dump que notre ransomware demande des bitcoins pour permettre aux utilisateurs de retrouver leur fichier. Il faut envoyer 0.16 bitcoin.\n",
    "\n",
    "On tombe sur une string qui ressemble à une address btc : 1MmpEmebJkqXG8nQv4cjJSmxZQFVmFo63M\n",
    "\n",
    "Le malware est donc un ransomware qui encrypt vos fichiers et demande une rançon pour les récupérer."
   ]
  },
  {
   "attachments": {},
   "cell_type": "markdown",
   "metadata": {},
   "source": [
    "### Etape 7 : La cause\n",
    "Pour bien comprendre ce qu'il s'est passé et ce qui a causé l'infection on peut regarder dans notre fichier cmdline.txt.\n",
    "\n",
    "```\n",
    "2748\tchrome.exe\t\"C:\\Program Files (x86)\\Google\\Chrome\\Application\\chrome.exe\" --type=renderer --field-trial-handle=984,15358569600588498425,3475374789430647391,131072 --service-pipe-token=5B96B12CED256E93CD66ABC8626426FB --lang=en-US --enable-offline-auto-reload --enable-offline-auto-reload-visible-only --device-scale-factor=1 --num-raster-threads=1 \n",
    "\n",
    "--service-request-channel-token=5B96B12CED256E93CD66ABC8626426FB --renderer-client-id=22 --mojo-platform-channel-handle=2104 /prefetch:1\n",
    "3820\tRick And Morty\t\"C:\\Torrents\\Rick And Morty season 1 download.exe\" \n",
    "\n",
    "3720\tvmware-tray.ex\t\"C:\\Users\\Rick\\AppData\\Local\\Temp\\RarSFX0\\vmware-tray.exe\" \n",
    "```\n",
    "\n",
    "On comprends que notre cher Rick a téléchargé le fichier depuis chrome lancer le fichier téléchargé depuis le torrent et à lancé l'executable en pensant que c'était un épisode de rick et morty..\n",
    "\n",
    "On va donc regarder du côté des fichiers torrent si on peut trouver quelque chose."
   ]
  },
  {
   "cell_type": "code",
   "execution_count": null,
   "metadata": {},
   "outputs": [],
   "source": [
    "def scanAllFile():\n",
    "    os.system(\"vol -f dump.vmem windows.filescan > filescan.txt\")\n",
    "\n",
    "scanAllFile()"
   ]
  },
  {
   "attachments": {},
   "cell_type": "markdown",
   "metadata": {},
   "source": [
    "On a 3 résultats de torrent dans la liste des fichiers"
   ]
  },
  {
   "cell_type": "code",
   "execution_count": null,
   "metadata": {},
   "outputs": [],
   "source": [
    "def dumpAllTorrent():\n",
    "    os.system(\"vol -f dump.vmem windows.dumpfiles --physaddr 0x7d8813c0\")\n",
    "    os.system(\"vol -f dump.vmem windows.dumpfiles --physaddr 0x7dae9350\")\n",
    "    os.system(\"vol -f dump.vmem windows.dumpfiles --physaddr 0x7dcbf6f0\")\n",
    "\n",
    "\n",
    "dumpAllTorrent()   "
   ]
  },
  {
   "attachments": {},
   "cell_type": "markdown",
   "metadata": {},
   "source": [
    "Dans notre deuxieme dumpfile on applique un strings et on récupère ce qui ressemble à un flag\n",
    "\n",
    "**M3an_T0rren7_4_R!cke**\n",
    "\n",
    "Pour le second flag, on va se tourner du côté de chrome qui a été utilisé pour télécharger nos fichiers torrent.\n",
    "On récupère toutes les instances de chrome grâce à notre pstree effectué plus tôt.\n",
    "\n",
    "On dump tous les pid"
   ]
  },
  {
   "cell_type": "code",
   "execution_count": 54,
   "metadata": {},
   "outputs": [],
   "source": [
    "def memchrome():\n",
    "    os.system(\"vol -f dump.vmem windows.memmap --dump --pid 4076\")\n"
   ]
  },
  {
   "attachments": {},
   "cell_type": "markdown",
   "metadata": {},
   "source": [
    "On récupère tout nos dump de chrome et on applique un \n",
    "\n",
    "```\n",
    "strings *.dmp | grep -A20 -B20 \"\\.torrent\"\n",
    "```\n",
    "\n",
    "Cette commande nous permet d'afficher les 20 lignes avant et après notre match 'qui est .torrent'\n",
    "\n",
    "Après quelques minutes de lecture de nos log on tombe sur la strings : **Hum@n_I5_Th3_Weak3s7_Link_In_Th3_Ch@inYear**"
   ]
  },
  {
   "attachments": {},
   "cell_type": "markdown",
   "metadata": {},
   "source": [
    "### Etape 8 : the key\n",
    "\n",
    "On va chercher dans le code de notre ransomware et retourner sur dnSpy\n",
    "\n",
    "Le programme génère un mot de passe aléatoire de 15 caractère au runtime.\n",
    "\n",
    "On peut trouver ces informations facilement grâce à dnspy.\n",
    "\n",
    "![img](images/1.png)\n",
    "\n",
    "On se penche maintenant sur la fonction : \n",
    "\n",
    "```.NET\n",
    "SendPassword(string password)\n",
    "```\n",
    "\n",
    "![img](images/2.png)\n",
    "\n",
    "On remarque le mot de passe est envoyé avec le nom du pc et du user juste avant : WIN-LO6FAF3DTFE-Rick MDP\n",
    "\n",
    "On passe un coup de strings sur le dump mémoire de notre malware\n",
    "\n",
    "```console\n",
    "do-not-try:~$ strings -e b pid.3270.dmp | grep -i 'WIN-LO6FAF3DTFE-Rick'\n",
    "WIN-LO6FAF3DTFE-Rick aDOBofVYUNVnmp7\n",
    "```\n",
    "\n"
   ]
  },
  {
   "attachments": {},
   "cell_type": "markdown",
   "metadata": {},
   "source": [
    "### 9e étape : Décrypter\n",
    "Lors du passage sur dnspy. On s'est rendu compte que l'on avait à faire à HiddenTear ransomware. Après quelque recherche sur ce ransomware on trouve des programme qui permettent de decrypter des fichiers si on a le mot de passe.\n",
    "\n",
    "On peut maintenant récupérer notre dernier flag qui se trouve dans Flag.txt"
   ]
  },
  {
   "cell_type": "code",
   "execution_count": null,
   "metadata": {},
   "outputs": [],
   "source": [
    "def getFlag():\n",
    "    os.system(\"vol -f dump.vmem -o ./Flag/ windows.dumpfiles --physaddr 0x7e410890 \")\n",
    "\n",
    "getFlag()"
   ]
  },
  {
   "attachments": {},
   "cell_type": "markdown",
   "metadata": {},
   "source": [
    "Lorsque que l'on ouvre ce fichier sur un editeur de code on s'apercoit qu'il est rempli de NullByte. On les retire avec python."
   ]
  },
  {
   "cell_type": "code",
   "execution_count": 63,
   "metadata": {},
   "outputs": [],
   "source": [
    "def deleteNullByte(filename):\n",
    "    with open(filename, 'rb') as f:\n",
    "        data = f.read()\n",
    "    with open(filename, 'wb') as f:\n",
    "        f.write(data.replace(b'\\x00', b''))\n",
    "\n",
    "deleteNullByte('file.0x7e410890.0xfa801b0532e0.DataSectionObject.Flag.txt.dat')"
   ]
  },
  {
   "attachments": {},
   "cell_type": "markdown",
   "metadata": {},
   "source": [
    "On peut maintenant décrypter le contenu du fichier avec notre programme.\n",
    "\n",
    "![img](images/4.png)\n",
    "\n",
    "Le dernier flag : CTF{Im_Th@_B3S7_RicK_0f_Th3m_4ll}"
   ]
  }
 ],
 "metadata": {
  "kernelspec": {
   "display_name": "Python 3",
   "language": "python",
   "name": "python3"
  },
  "language_info": {
   "codemirror_mode": {
    "name": "ipython",
    "version": 3
   },
   "file_extension": ".py",
   "mimetype": "text/x-python",
   "name": "python",
   "nbconvert_exporter": "python",
   "pygments_lexer": "ipython3",
   "version": "3.11.0"
  },
  "orig_nbformat": 4,
  "vscode": {
   "interpreter": {
    "hash": "5c7b89af1651d0b8571dde13640ecdccf7d5a6204171d6ab33e7c296e100e08a"
   }
  }
 },
 "nbformat": 4,
 "nbformat_minor": 2
}
